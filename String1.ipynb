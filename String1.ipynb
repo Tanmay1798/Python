{
 "cells": [
  {
   "cell_type": "code",
   "execution_count": 1,
   "id": "849f455e",
   "metadata": {},
   "outputs": [
    {
     "name": "stdout",
     "output_type": "stream",
     "text": [
      "this is a string in Python\n"
     ]
    }
   ],
   "source": [
    "str1 = 'this is a string in Python'\n",
    "print(str1)"
   ]
  },
  {
   "cell_type": "code",
   "execution_count": 2,
   "id": "b220f292",
   "metadata": {},
   "outputs": [
    {
     "data": {
      "text/plain": [
       "26"
      ]
     },
     "execution_count": 2,
     "metadata": {},
     "output_type": "execute_result"
    }
   ],
   "source": [
    "len(str1)"
   ]
  },
  {
   "cell_type": "code",
   "execution_count": 4,
   "id": "817bd712",
   "metadata": {},
   "outputs": [
    {
     "name": "stdout",
     "output_type": "stream",
     "text": [
      "This is a string in Python\n"
     ]
    }
   ],
   "source": [
    "str2 = \"This is a string in Python\"\n",
    "print(str2)"
   ]
  },
  {
   "cell_type": "code",
   "execution_count": 5,
   "id": "c903c99a",
   "metadata": {},
   "outputs": [
    {
     "name": "stdout",
     "output_type": "stream",
     "text": [
      " This is \n",
      "the first\n",
      "multiline string\n",
      "\n"
     ]
    }
   ],
   "source": [
    "#Multi-line strings must be embed in triple quotes, as shown below.\n",
    "str1 = ''' This is \n",
    "the first\n",
    "multiline string\n",
    "'''\n",
    "print(str1)"
   ]
  },
  {
   "cell_type": "code",
   "execution_count": 6,
   "id": "0b8375c1",
   "metadata": {},
   "outputs": [
    {
     "name": "stdout",
     "output_type": "stream",
     "text": [
      " This is\n",
      "the 2nd \n",
      "multiline \n",
      "string.\n",
      "\n"
     ]
    }
   ],
   "source": [
    "str5 = \"\"\" This is\n",
    "the 2nd \n",
    "multiline \n",
    "string.\n",
    "\"\"\"\n",
    "print(str5)"
   ]
  },
  {
   "cell_type": "code",
   "execution_count": 7,
   "id": "f08f58a4",
   "metadata": {},
   "outputs": [
    {
     "name": "stdout",
     "output_type": "stream",
     "text": [
      "Welcome to \"Python Tutorial\" at NetTech.\n"
     ]
    }
   ],
   "source": [
    "str1 ='Welcome to \"Python Tutorial\" at NetTech.'\n",
    "print(str1)"
   ]
  },
  {
   "cell_type": "code",
   "execution_count": 10,
   "id": "7226f07a",
   "metadata": {},
   "outputs": [
    {
     "name": "stdout",
     "output_type": "stream",
     "text": [
      "Welcome to 'Python Tutorial' at NetTech.\n"
     ]
    }
   ],
   "source": [
    "str1 =\"Welcome to 'Python Tutorial' at NetTech.\"\n",
    "print(str1)"
   ]
  },
  {
   "cell_type": "code",
   "execution_count": 11,
   "id": "3c6df7d4",
   "metadata": {},
   "outputs": [
    {
     "data": {
      "text/plain": [
       "5"
      ]
     },
     "execution_count": 11,
     "metadata": {},
     "output_type": "execute_result"
    }
   ],
   "source": [
    "greet = \"hello\"\n",
    "len(greet)"
   ]
  },
  {
   "cell_type": "code",
   "execution_count": 12,
   "id": "d7d77809",
   "metadata": {},
   "outputs": [
    {
     "data": {
      "text/plain": [
       "'h'"
      ]
     },
     "execution_count": 12,
     "metadata": {},
     "output_type": "execute_result"
    }
   ],
   "source": [
    "#positive indexing\n",
    "greet='hello'\n",
    "greet[0]"
   ]
  },
  {
   "cell_type": "code",
   "execution_count": 13,
   "id": "d9a0cd3f",
   "metadata": {},
   "outputs": [
    {
     "ename": "IndexError",
     "evalue": "string index out of range",
     "output_type": "error",
     "traceback": [
      "\u001b[1;31m---------------------------------------------------------------------------\u001b[0m",
      "\u001b[1;31mIndexError\u001b[0m                                Traceback (most recent call last)",
      "\u001b[1;32m~\\AppData\\Local\\Temp/ipykernel_8344/1031943716.py\u001b[0m in \u001b[0;36m<module>\u001b[1;34m\u001b[0m\n\u001b[1;32m----> 1\u001b[1;33m \u001b[0mgreet\u001b[0m\u001b[1;33m[\u001b[0m\u001b[1;36m5\u001b[0m\u001b[1;33m]\u001b[0m\u001b[1;33m\u001b[0m\u001b[1;33m\u001b[0m\u001b[0m\n\u001b[0m",
      "\u001b[1;31mIndexError\u001b[0m: string index out of range"
     ]
    }
   ],
   "source": [
    "greet[5]"
   ]
  },
  {
   "cell_type": "code",
   "execution_count": 14,
   "id": "58a7b7df",
   "metadata": {},
   "outputs": [
    {
     "data": {
      "text/plain": [
       "'h'"
      ]
     },
     "execution_count": 14,
     "metadata": {},
     "output_type": "execute_result"
    }
   ],
   "source": [
    "#negative indexing\n",
    "greet='hello'\n",
    "greet[-5]"
   ]
  },
  {
   "cell_type": "code",
   "execution_count": 15,
   "id": "c2a98ac9",
   "metadata": {},
   "outputs": [
    {
     "ename": "TypeError",
     "evalue": "'str' object does not support item assignment",
     "output_type": "error",
     "traceback": [
      "\u001b[1;31m---------------------------------------------------------------------------\u001b[0m",
      "\u001b[1;31mTypeError\u001b[0m                                 Traceback (most recent call last)",
      "\u001b[1;32m~\\AppData\\Local\\Temp/ipykernel_8344/3542102789.py\u001b[0m in \u001b[0;36m<module>\u001b[1;34m\u001b[0m\n\u001b[0;32m      1\u001b[0m \u001b[1;31m#unmutable object hence it is not possible to modify it.\u001b[0m\u001b[1;33m\u001b[0m\u001b[1;33m\u001b[0m\u001b[0m\n\u001b[0;32m      2\u001b[0m \u001b[0mgreet\u001b[0m\u001b[1;33m=\u001b[0m\u001b[1;34m'hello'\u001b[0m\u001b[1;33m\u001b[0m\u001b[1;33m\u001b[0m\u001b[0m\n\u001b[1;32m----> 3\u001b[1;33m \u001b[0mgreet\u001b[0m\u001b[1;33m[\u001b[0m\u001b[1;36m0\u001b[0m\u001b[1;33m]\u001b[0m\u001b[1;33m=\u001b[0m\u001b[1;34m'A'\u001b[0m\u001b[1;33m\u001b[0m\u001b[1;33m\u001b[0m\u001b[0m\n\u001b[0m",
      "\u001b[1;31mTypeError\u001b[0m: 'str' object does not support item assignment"
     ]
    }
   ],
   "source": [
    "#unmutable object hence it is not possible to modify it.\n",
    "greet='hello'\n",
    "greet[0]='A'"
   ]
  },
  {
   "cell_type": "code",
   "execution_count": 16,
   "id": "8bab3c72",
   "metadata": {},
   "outputs": [
    {
     "data": {
      "text/plain": [
       "str"
      ]
     },
     "execution_count": 16,
     "metadata": {},
     "output_type": "execute_result"
    }
   ],
   "source": [
    "greet='hello'\n",
    "type(greet)"
   ]
  },
  {
   "cell_type": "code",
   "execution_count": 18,
   "id": "5a3d308b",
   "metadata": {},
   "outputs": [
    {
     "data": {
      "text/plain": [
       "'a'"
      ]
     },
     "execution_count": 18,
     "metadata": {},
     "output_type": "execute_result"
    }
   ],
   "source": [
    "str = \"Welcome to 'Python Tutorial' at NetTech\"\n",
    "str[-10]"
   ]
  },
  {
   "cell_type": "code",
   "execution_count": 19,
   "id": "c744792a",
   "metadata": {},
   "outputs": [
    {
     "data": {
      "text/plain": [
       "'Welcome'"
      ]
     },
     "execution_count": 19,
     "metadata": {},
     "output_type": "execute_result"
    }
   ],
   "source": [
    "str[0:7]"
   ]
  },
  {
   "cell_type": "code",
   "execution_count": 21,
   "id": "ecc06a57",
   "metadata": {},
   "outputs": [
    {
     "data": {
      "text/plain": [
       "'ome t'"
      ]
     },
     "execution_count": 21,
     "metadata": {},
     "output_type": "execute_result"
    }
   ],
   "source": [
    "str[4:9]"
   ]
  },
  {
   "cell_type": "code",
   "execution_count": 22,
   "id": "8cc49286",
   "metadata": {},
   "outputs": [
    {
     "data": {
      "text/plain": [
       "\"elcome to 'Python Tutorial' at NetTec\""
      ]
     },
     "execution_count": 22,
     "metadata": {},
     "output_type": "execute_result"
    }
   ],
   "source": [
    "str[1:-1\n",
    "]"
   ]
  },
  {
   "cell_type": "code",
   "execution_count": 23,
   "id": "220f8c5c",
   "metadata": {},
   "outputs": [
    {
     "data": {
      "text/plain": [
       "''"
      ]
     },
     "execution_count": 23,
     "metadata": {},
     "output_type": "execute_result"
    }
   ],
   "source": [
    "str[-1:1]"
   ]
  },
  {
   "cell_type": "code",
   "execution_count": 25,
   "id": "6cd30953",
   "metadata": {},
   "outputs": [],
   "source": [
    "str1=\"Welcome to 'Python Tutorial' on at NetTech\""
   ]
  },
  {
   "cell_type": "code",
   "execution_count": 26,
   "id": "b597c72d",
   "metadata": {},
   "outputs": [
    {
     "data": {
      "text/plain": [
       "'ecm '"
      ]
     },
     "execution_count": 26,
     "metadata": {},
     "output_type": "execute_result"
    }
   ],
   "source": [
    "str1[1:8:2]"
   ]
  },
  {
   "cell_type": "code",
   "execution_count": 27,
   "id": "9154b43e",
   "metadata": {},
   "outputs": [
    {
     "data": {
      "text/plain": [
       "'h'"
      ]
     },
     "execution_count": 27,
     "metadata": {},
     "output_type": "execute_result"
    }
   ],
   "source": [
    "str1[-1]"
   ]
  },
  {
   "cell_type": "code",
   "execution_count": 30,
   "id": "b35761fe",
   "metadata": {},
   "outputs": [
    {
     "data": {
      "text/plain": [
       "\"hceTteN ta no 'lairotuT nohtyP' ot emocleW\""
      ]
     },
     "execution_count": 30,
     "metadata": {},
     "output_type": "execute_result"
    }
   ],
   "source": [
    "str1[::-1]"
   ]
  },
  {
   "cell_type": "code",
   "execution_count": 29,
   "id": "6e38b1fd",
   "metadata": {},
   "outputs": [
    {
     "data": {
      "text/plain": [
       "42"
      ]
     },
     "execution_count": 29,
     "metadata": {},
     "output_type": "execute_result"
    }
   ],
   "source": [
    "len(str1)"
   ]
  },
  {
   "cell_type": "code",
   "execution_count": 31,
   "id": "dd45bb45",
   "metadata": {},
   "outputs": [
    {
     "data": {
      "text/plain": [
       "\"Welcome to 'Python Tutorial' on at NetTec\""
      ]
     },
     "execution_count": 31,
     "metadata": {},
     "output_type": "execute_result"
    }
   ],
   "source": [
    "str1[:-1]"
   ]
  },
  {
   "cell_type": "code",
   "execution_count": 33,
   "id": "0e62a8cc",
   "metadata": {},
   "outputs": [
    {
     "data": {
      "text/plain": [
       "\"hceTteN ta no 'lairotuT nohtyP' ot emocleW\""
      ]
     },
     "execution_count": 33,
     "metadata": {},
     "output_type": "execute_result"
    }
   ],
   "source": [
    "str1[-1::-1]"
   ]
  },
  {
   "cell_type": "code",
   "execution_count": 34,
   "id": "f90b9410",
   "metadata": {},
   "outputs": [
    {
     "data": {
      "text/plain": [
       "'etN'"
      ]
     },
     "execution_count": 34,
     "metadata": {},
     "output_type": "execute_result"
    }
   ],
   "source": [
    "str1[-3:-8:-2]"
   ]
  },
  {
   "cell_type": "code",
   "execution_count": null,
   "id": "a8be703b",
   "metadata": {},
   "outputs": [],
   "source": []
  }
 ],
 "metadata": {
  "kernelspec": {
   "display_name": "Python 3 (ipykernel)",
   "language": "python",
   "name": "python3"
  },
  "language_info": {
   "codemirror_mode": {
    "name": "ipython",
    "version": 3
   },
   "file_extension": ".py",
   "mimetype": "text/x-python",
   "name": "python",
   "nbconvert_exporter": "python",
   "pygments_lexer": "ipython3",
   "version": "3.9.7"
  }
 },
 "nbformat": 4,
 "nbformat_minor": 5
}
