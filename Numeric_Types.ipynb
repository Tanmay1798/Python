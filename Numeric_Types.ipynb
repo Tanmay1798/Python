{
 "cells": [
  {
   "cell_type": "code",
   "execution_count": 1,
   "id": "8c88c737",
   "metadata": {},
   "outputs": [
    {
     "name": "stdout",
     "output_type": "stream",
     "text": [
      "Roll number is : 33\n",
      "<class 'int'>\n",
      "25\n",
      "<class 'int'>\n"
     ]
    }
   ],
   "source": [
    "roll_no = 33\n",
    "#display roll no\n",
    "print(\"Roll number is :\",roll_no)\n",
    "print(type(roll_no))\n",
    "\n",
    "#create integre using int()class\n",
    "\n",
    "id = int(25)\n",
    "print(id)\n",
    "print(type(id))"
   ]
  },
  {
   "cell_type": "code",
   "execution_count": 2,
   "id": "c21f15c0",
   "metadata": {},
   "outputs": [
    {
     "name": "stdout",
     "output_type": "stream",
     "text": [
      "<class 'int'>\n",
      "<class 'float'>\n"
     ]
    }
   ],
   "source": [
    "#data types\n",
    "x=-9999\n",
    "y=99.99\n",
    "print(type(x))\n",
    "print(type(y))"
   ]
  },
  {
   "cell_type": "code",
   "execution_count": 3,
   "id": "dd9b410e",
   "metadata": {},
   "outputs": [
    {
     "data": {
      "text/plain": [
       "(1+0j)"
      ]
     },
     "execution_count": 3,
     "metadata": {},
     "output_type": "execute_result"
    }
   ],
   "source": [
    "complex(1)"
   ]
  },
  {
   "cell_type": "code",
   "execution_count": 4,
   "id": "9da6a58f",
   "metadata": {},
   "outputs": [
    {
     "data": {
      "text/plain": [
       "(1-2j)"
      ]
     },
     "execution_count": 4,
     "metadata": {},
     "output_type": "execute_result"
    }
   ],
   "source": [
    "complex(1,-2)"
   ]
  },
  {
   "cell_type": "code",
   "execution_count": 5,
   "id": "b1c5754f",
   "metadata": {},
   "outputs": [
    {
     "name": "stdout",
     "output_type": "stream",
     "text": [
      "1.0\n",
      "2\n",
      "(1+0j)\n",
      "<class 'float'>\n",
      "<class 'int'>\n",
      "<class 'complex'>\n"
     ]
    }
   ],
   "source": [
    "x = 1\n",
    "y = 2.8\n",
    "z = 1j\n",
    "\n",
    "#convert from int to float:\n",
    "a = float(x)\n",
    "\n",
    "#convert from float to int:\n",
    "b = int(y)\n",
    "\n",
    "#convert from int to complex:\n",
    "c = complex(x)\n",
    "\n",
    "print(a)\n",
    "print(b)\n",
    "print(c)\n",
    "\n",
    "print(type(a))\n",
    "print(type(b))\n",
    "print(type(c))"
   ]
  },
  {
   "cell_type": "code",
   "execution_count": 6,
   "id": "5f343846",
   "metadata": {},
   "outputs": [
    {
     "name": "stdout",
     "output_type": "stream",
     "text": [
      "The binary number is :  0b10100\n",
      "The octal number is :  0o24\n",
      "The hexa number is :  0x14\n"
     ]
    }
   ],
   "source": [
    "i = 20\n",
    "print(\"The binary number is : \" ,bin(i))\n",
    "print(\"The octal number is : \" ,oct(i))\n",
    "print(\"The hexa number is : \" ,hex(i))"
   ]
  },
  {
   "cell_type": "code",
   "execution_count": 7,
   "id": "c89f75b5",
   "metadata": {},
   "outputs": [
    {
     "name": "stdout",
     "output_type": "stream",
     "text": [
      "<class 'int'>\n",
      "<class 'float'>\n",
      "<class 'float'>\n"
     ]
    }
   ],
   "source": [
    "x = 99\n",
    "y = 1.111\n",
    "\n",
    "#data in int and float\n",
    "print(type(x))\n",
    "print(type(y))\n",
    "\n",
    "#adiition\n",
    "z = x + y\n",
    "\n",
    "#type after addition\n",
    "print(type(z))"
   ]
  },
  {
   "cell_type": "code",
   "execution_count": 8,
   "id": "3fdecf23",
   "metadata": {},
   "outputs": [
    {
     "data": {
      "text/plain": [
       "123"
      ]
     },
     "execution_count": 8,
     "metadata": {},
     "output_type": "execute_result"
    }
   ],
   "source": [
    "int(123.654)"
   ]
  },
  {
   "cell_type": "code",
   "execution_count": 9,
   "id": "e7d9ef85",
   "metadata": {},
   "outputs": [
    {
     "data": {
      "text/plain": [
       "10"
      ]
     },
     "execution_count": 9,
     "metadata": {},
     "output_type": "execute_result"
    }
   ],
   "source": [
    "int(\"10\")"
   ]
  },
  {
   "cell_type": "code",
   "execution_count": 10,
   "id": "2ab80aff",
   "metadata": {},
   "outputs": [
    {
     "ename": "ValueError",
     "evalue": "invalid literal for int() with base 10: '10.5'",
     "output_type": "error",
     "traceback": [
      "\u001b[1;31m---------------------------------------------------------------------------\u001b[0m",
      "\u001b[1;31mValueError\u001b[0m                                Traceback (most recent call last)",
      "\u001b[1;32m~\\AppData\\Local\\Temp/ipykernel_13476/864341924.py\u001b[0m in \u001b[0;36m<module>\u001b[1;34m\u001b[0m\n\u001b[1;32m----> 1\u001b[1;33m \u001b[0mint\u001b[0m\u001b[1;33m(\u001b[0m\u001b[1;34m\"10.5\"\u001b[0m\u001b[1;33m)\u001b[0m\u001b[1;33m\u001b[0m\u001b[1;33m\u001b[0m\u001b[0m\n\u001b[0m",
      "\u001b[1;31mValueError\u001b[0m: invalid literal for int() with base 10: '10.5'"
     ]
    }
   ],
   "source": [
    "int(\"10.5\")"
   ]
  },
  {
   "cell_type": "code",
   "execution_count": 11,
   "id": "02708b9a",
   "metadata": {},
   "outputs": [
    {
     "ename": "ValueError",
     "evalue": "invalid literal for int() with base 10: 'ten'",
     "output_type": "error",
     "traceback": [
      "\u001b[1;31m---------------------------------------------------------------------------\u001b[0m",
      "\u001b[1;31mValueError\u001b[0m                                Traceback (most recent call last)",
      "\u001b[1;32m~\\AppData\\Local\\Temp/ipykernel_13476/1877291328.py\u001b[0m in \u001b[0;36m<module>\u001b[1;34m\u001b[0m\n\u001b[1;32m----> 1\u001b[1;33m \u001b[0mint\u001b[0m\u001b[1;33m(\u001b[0m\u001b[1;34m\"ten\"\u001b[0m\u001b[1;33m)\u001b[0m\u001b[1;33m\u001b[0m\u001b[1;33m\u001b[0m\u001b[0m\n\u001b[0m",
      "\u001b[1;31mValueError\u001b[0m: invalid literal for int() with base 10: 'ten'"
     ]
    }
   ],
   "source": [
    "int(\"ten\")"
   ]
  },
  {
   "cell_type": "code",
   "execution_count": 12,
   "id": "fa3da027",
   "metadata": {},
   "outputs": [
    {
     "name": "stdout",
     "output_type": "stream",
     "text": [
      "apple99\n"
     ]
    }
   ],
   "source": [
    "#concatenating int and str types\n",
    "i=99\n",
    "s=\"apple\"\n",
    "print(s+str(i))"
   ]
  },
  {
   "cell_type": "code",
   "execution_count": 14,
   "id": "61c396b5",
   "metadata": {},
   "outputs": [
    {
     "name": "stdout",
     "output_type": "stream",
     "text": [
      "6\n"
     ]
    }
   ],
   "source": [
    "import random\n",
    "# prints a random value from the list\n",
    "list1=[1,2,3,4,5,6]\n",
    "print(random.choice(list1))"
   ]
  },
  {
   "cell_type": "code",
   "execution_count": 17,
   "id": "8f9d2d1d",
   "metadata": {},
   "outputs": [
    {
     "name": "stdout",
     "output_type": "stream",
     "text": [
      "A random number from list is : 3\n"
     ]
    }
   ],
   "source": [
    "import random\n",
    "# using choice() to generate a random number from a\n",
    "# given list of numbers.\n",
    "print(\"A random number from list is : \",end=\"\")\n",
    "print(random.choice([1,2,3,4,5,6]))              "
   ]
  },
  {
   "cell_type": "code",
   "execution_count": 18,
   "id": "c5632e74",
   "metadata": {},
   "outputs": [
    {
     "name": "stdout",
     "output_type": "stream",
     "text": [
      "A random number from range is : 41\n"
     ]
    }
   ],
   "source": [
    "print(\"A random number from range is : \",end=\"\")\n",
    "print(random.randrange(20,50,3))"
   ]
  },
  {
   "cell_type": "code",
   "execution_count": null,
   "id": "261aa9d1",
   "metadata": {},
   "outputs": [],
   "source": []
  }
 ],
 "metadata": {
  "kernelspec": {
   "display_name": "Python 3 (ipykernel)",
   "language": "python",
   "name": "python3"
  },
  "language_info": {
   "codemirror_mode": {
    "name": "ipython",
    "version": 3
   },
   "file_extension": ".py",
   "mimetype": "text/x-python",
   "name": "python",
   "nbconvert_exporter": "python",
   "pygments_lexer": "ipython3",
   "version": "3.9.7"
  }
 },
 "nbformat": 4,
 "nbformat_minor": 5
}
